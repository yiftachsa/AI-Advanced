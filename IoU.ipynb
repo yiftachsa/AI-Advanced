{
  "nbformat": 4,
  "nbformat_minor": 0,
  "metadata": {
    "colab": {
      "provenance": [],
      "authorship_tag": "ABX9TyOTQaZvhjT0iC+yWxgkWPsf",
      "include_colab_link": true
    },
    "kernelspec": {
      "name": "python3",
      "display_name": "Python 3"
    },
    "language_info": {
      "name": "python"
    }
  },
  "cells": [
    {
      "cell_type": "markdown",
      "metadata": {
        "id": "view-in-github",
        "colab_type": "text"
      },
      "source": [
        "<a href=\"https://colab.research.google.com/github/yiftachsa/AI-Advanced/blob/main/IoU.ipynb\" target=\"_parent\"><img src=\"https://colab.research.google.com/assets/colab-badge.svg\" alt=\"Open In Colab\"/></a>"
      ]
    },
    {
      "cell_type": "code",
      "execution_count": 2,
      "metadata": {
        "id": "tE144fyBiCzx"
      },
      "outputs": [],
      "source": [
        "import tensorflow as tf\n",
        "\n",
        "def build_iou_matrix(bboxes_a: tf.Tensor, bboxes_b: tf.Tensor):\n",
        "    \"\"\"\n",
        "    Computes an [N x M] matrix of IoUs between two sets of boxes.\n",
        "    Each box is [x1, y1, x2, y2]\n",
        "\n",
        "    @param bboxes_a: Tensor of shape [N, 4]\n",
        "    @param bboxes_b: Tensor of shape [M, 4]\n",
        "    @return: IoU matrix of shape [N, M]\n",
        "    \"\"\"\n",
        "    #expand dims for broadcasting\n",
        "    bboxes_a_expend = tf.expand_dims(bboxes_a, axis=1) # (N, 1, 4)\n",
        "    bboxes_b_expend = tf.expand_dims(bboxes_b, axis=0) # (1, M, 4)\n",
        "\n",
        "    #intersection\n",
        "    top_left_x = tf.maximum(bboxes_a_expend[..., 0], bboxes_b_expend[..., 0]) # max(x_a1,x_b1) (N,M)\n",
        "    top_left_y = tf.minimum(bboxes_a_expend[..., 1], bboxes_b_expend[..., 1]) # min(y_a1,y_b1) (N,M)\n",
        "    bottom_right_x = tf.minimum(bboxes_a_expend[..., 2], bboxes_b_expend[..., 2]) # min(x_a2,x_b2) (N,M)\n",
        "    bottom_right_y = tf.maximum(bboxes_a_expend[..., 3], bboxes_b_expend[..., 3]) # max(y_a2,y_b2) (N,M)\n",
        "\n",
        "    w = tf.maximum(0, bottom_right_x - top_left_x)\n",
        "    h = tf.maximum(0, top_left_y - bottom_right_y)\n",
        "    area_intersect = tf.multiply(w,h) # (N,M)\n",
        "\n",
        "    # Union\n",
        "    area_a = tf.multiply(tf.subtract(bboxes_a[:,2], bboxes_a[:,0]), tf.subtract(bboxes_a[:,1], bboxes_a[:,3])) #(N,)\n",
        "    area_b = tf.multiply(tf.subtract(bboxes_b[:,2], bboxes_b[:,0]), tf.subtract(bboxes_b[:,1], bboxes_b[:,3])) #(M,)\n",
        "\n",
        "    #expand dims for broadcasting\n",
        "    area_a_expend = tf.expand_dims(area_a, axis=1) # (N, 1)\n",
        "    area_b_expend = tf.expand_dims(area_b, axis=0) # (1, M)\n",
        "    area_union = tf.add(area_a_expend, area_b_expend) # (N,M) P(A U B) = P(A) + P(B) - P (A, B)\n",
        "    area_union = tf.subtract(area_union, area_intersect)\n",
        "\n",
        "    iou = tf.divide(area_intersect, area_union)# (N,M)\n",
        "    return iou"
      ]
    },
    {
      "cell_type": "code",
      "source": [
        "import numpy as np\n",
        "\n",
        "def get_bboxes(N=10):\n",
        "  p1 = np.random.rand(N,2)*5\n",
        "  p2_x = p1[:,0]+np.random.rand(N)\n",
        "  p2_y = p1[:,1]-np.random.rand(N)\n",
        "  p2 = np.stack([p2_x, p2_y], axis=1)\n",
        "\n",
        "  bboxes = np.stack([p1, p2], axis=1)\n",
        "  bboxes = np.reshape(bboxes, (N, 4))\n",
        "  return bboxes\n",
        "\n",
        "def get_close_bboxes(bboxes):\n",
        "  N = bboxes.shape[0]\n",
        "  p1_x = bboxes[:,0]+np.where(np.random.random(N)>0.5, np.random.random(N), -np.random.random(N))\n",
        "  p1_y = bboxes[:,1]+np.where(np.random.random(N)>0.5, np.random.random(N), -np.random.random(N))\n",
        "\n",
        "  p2_x = p1_x+np.random.rand(N)\n",
        "  p2_y = p1_y-np.random.rand(N)\n",
        "  bboxes = np.stack([p1_x, p1_y, p2_x, p2_y], axis=1)\n",
        "\n",
        "  # bboxes = np.stack([p1, p2], axis=1)\n",
        "  # bboxes = np.reshape(bboxes, (N, 4))\n",
        "  return bboxes\n",
        "\n",
        "bboxes_a = get_bboxes(5)\n",
        "bboxes_b_1 = get_close_bboxes(bboxes_a)\n",
        "bboxes_b_2 = get_bboxes(3)\n",
        "bboxes_b = np.vstack((bboxes_b_1, bboxes_b_2))"
      ],
      "metadata": {
        "id": "-HCujwtA6ZMZ"
      },
      "execution_count": 3,
      "outputs": []
    },
    {
      "cell_type": "code",
      "source": [
        "iou_mat = build_iou_matrix(bboxes_a, bboxes_b)"
      ],
      "metadata": {
        "id": "xGYLed5Mwgsz"
      },
      "execution_count": 6,
      "outputs": []
    },
    {
      "cell_type": "code",
      "source": [
        "# prompt: plot bboxes_a and bboxes_b with tags of index per bbox both on the same graph\n",
        "\n",
        "import numpy as np\n",
        "import matplotlib.pyplot as plt\n",
        "import matplotlib.patches as patches\n",
        "\n",
        "def plot_bboxes_with_tags(bboxes_a, bboxes_b):\n",
        "  \"\"\"\n",
        "  Plots two sets of bounding boxes on the same graph with index tags.\n",
        "\n",
        "  Args:\n",
        "    bboxes_a: Numpy array of shape [N, 4] representing the first set of boxes.\n",
        "    bboxes_b: Numpy array of shape [M, 4] representing the second set of boxes.\n",
        "  \"\"\"\n",
        "  fig, ax = plt.subplots(1)\n",
        "  ax.set_aspect('equal', adjustable='box')\n",
        "\n",
        "  for i, bbox in enumerate(bboxes_a):\n",
        "    rect = patches.Rectangle((bbox[0], bbox[3]), bbox[2] - bbox[0], bbox[1] - bbox[3],\n",
        "                             linewidth=1, edgecolor='r', facecolor='none')\n",
        "    ax.add_patch(rect)\n",
        "    ax.text(bbox[0], bbox[1], str(i), color='r', fontsize=8)\n",
        "\n",
        "  for i, bbox in enumerate(bboxes_b):\n",
        "    rect = patches.Rectangle((bbox[0], bbox[3]), bbox[2] - bbox[0], bbox[1] - bbox[3],\n",
        "                             linewidth=1, edgecolor='b', facecolor='none')\n",
        "    ax.add_patch(rect)\n",
        "    ax.text(bbox[0], bbox[1], str(i), color='b', fontsize=8)\n",
        "\n",
        "  # Set limits to encompass all bounding boxes\n",
        "  all_bboxes = np.concatenate((bboxes_a, bboxes_b), axis=0)\n",
        "  min_x = np.min(all_bboxes[:, 0])\n",
        "  max_x = np.max(all_bboxes[:, 2])\n",
        "  min_y = np.min(all_bboxes[:, 3])\n",
        "  max_y = np.max(all_bboxes[:, 1])\n",
        "\n",
        "  ax.set_xlim(min_x - 1, max_x + 1)\n",
        "  ax.set_ylim(min_y - 1, max_y + 1)\n",
        "\n",
        "  plt.show()\n",
        "\n",
        "plot_bboxes_with_tags(bboxes_a, bboxes_b)\n"
      ],
      "metadata": {
        "colab": {
          "base_uri": "https://localhost:8080/",
          "height": 430
        },
        "id": "V220wVN_t0mx",
        "outputId": "bffe530d-d55f-4473-c492-ef5562580114"
      },
      "execution_count": 7,
      "outputs": [
        {
          "output_type": "display_data",
          "data": {
            "text/plain": [
              "<Figure size 640x480 with 1 Axes>"
            ],
            "image/png": "[encoded data removed]"
          },
          "metadata": {}
        }
      ]
    },
    {
      "cell_type": "code",
      "source": [
        "iou_mat[1,3]"
      ],
      "metadata": {
        "colab": {
          "base_uri": "https://localhost:8080/"
        },
        "id": "2F00EGLJrdH9",
        "outputId": "21fc3a08-819e-437a-df14-330e8fbf026f"
      },
      "execution_count": 13,
      "outputs": [
        {
          "output_type": "execute_result",
          "data": {
            "text/plain": [
              "<tf.Tensor: shape=(), dtype=float64, numpy=0.5721841847758055>"
            ]
          },
          "metadata": {},
          "execution_count": 13
        }
      ]
    },
    {
      "cell_type": "code",
      "source": [],
      "metadata": {
        "id": "qM_zJGsvrrf3"
      },
      "execution_count": null,
      "outputs": []
    }
  ]
}